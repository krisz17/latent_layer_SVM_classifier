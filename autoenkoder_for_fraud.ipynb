{
 "cells": [
  {
   "cell_type": "markdown",
   "id": "04fc42fe-1f96-4a44-ad45-b2bf8c897b4d",
   "metadata": {},
   "source": [
    "Wisieńka na torcie czyli penetracja przestrzeni ukrytej autoenkodera dla problemu wykrywania anomalii dla transakcji kartowych\n",
    "Więcej https://krzysztofzdanowicz.com/2022/11/wykrywanie-anomalii-oraz-zdarzen-rzadkich/"
   ]
  },
  {
   "cell_type": "code",
   "execution_count": 1,
   "id": "6cd7c106-11df-40ba-8e8f-a34d03066378",
   "metadata": {},
   "outputs": [],
   "source": [
    "# importujemy pakiety\n",
    "# matplotlib inline\n",
    "import pandas as pd\n",
    "import numpy as np\n",
    "from scipy import stats\n",
    "import tensorflow as tf\n",
    "import matplotlib.pyplot as plt\n",
    "import seaborn as sns\n",
    "import pickle\n",
    "from sklearn.model_selection import train_test_split\n",
    "from sklearn.metrics import confusion_matrix, precision_recall_curve\n",
    "from sklearn.metrics import recall_score, classification_report, auc, roc_curve\n",
    "from sklearn.metrics import precision_recall_fscore_support, f1_score\n",
    "from sklearn.preprocessing import StandardScaler\n",
    "from pylab import rcParams\n",
    "from keras.models import Model, load_model\n",
    "from keras.layers import Input, Dense\n",
    "from keras.callbacks import ModelCheckpoint, TensorBoard\n",
    "from keras import backend as K\n",
    "from keras import regularizers\n",
    "from imblearn.under_sampling import TomekLinks\n",
    "\n",
    "#ustawiam ziarno pseudolosowania i udział zbioru testowego\n",
    "RANDOM_SEED = 128262\n",
    "TEST_PCT = 0.2\n",
    "\n",
    "#ustawienia stylu grafik, w tym wypadku wykorzystałem schemat kolorów z xkcd.com\n",
    "rcParams['figure.figsize'] = 14, 8.7 # złoty podział\n",
    "LABELS = [\"Normal\",\"Fraud\"]\n",
    "\n",
    "# wczytujemy zbiór danych\n",
    "df = pd.read_csv(\"creditcard.csv\")"
   ]
  },
  {
   "cell_type": "code",
   "execution_count": 2,
   "id": "cf54db2d-3d47-48ff-8e2d-2a2fc66760fc",
   "metadata": {},
   "outputs": [],
   "source": [
    "#Normalizowanie oraz skalowanie danych, wymagane aby skorzystać z sieci neuronowej.\n",
    "df_norm = df.copy()\n",
    "df_norm['Time'] = StandardScaler().fit_transform(df_norm['Time'].values.reshape(-1, 1))\n",
    "df_norm['Amount'] = StandardScaler().fit_transform(df_norm['Amount'].values.reshape(-1, 1))"
   ]
  },
  {
   "cell_type": "code",
   "execution_count": 3,
   "id": "becd733d-dccc-4ca1-9734-573b5f492b9b",
   "metadata": {},
   "outputs": [],
   "source": [
    "train_x, test_x = train_test_split(df_norm, test_size=TEST_PCT, random_state=RANDOM_SEED)\n",
    "train_x = train_x[train_x.Class == 0]       # where normal transactions\n",
    "train_x = train_x.drop(['Class'], axis=1)   # drop the class column\n",
    "\n",
    "test_y = test_x['Class']                    # save the class column for the test set\n",
    "test_x = test_x.drop(['Class'], axis=1)     # drop the class column\n",
    "\n",
    "train_x = train_x.values                    # transform to ndarray\n",
    "test_x = test_x.values                      # transform to ndarray\n"
   ]
  },
  {
   "cell_type": "code",
   "execution_count": 4,
   "id": "e2fbac9b-dd33-45fe-9e65-36cc32c0372e",
   "metadata": {},
   "outputs": [
    {
     "name": "stdout",
     "output_type": "stream",
     "text": [
      "(227425, 30)\n",
      "(227845, 30)\n",
      "(227822, 30)\n"
     ]
    }
   ],
   "source": [
    "print(train_x.shape)\n",
    "print(X_prim.shape)\n",
    "print(X_res.shape)\n",
    "\n"
   ]
  },
  {
   "cell_type": "code",
   "execution_count": 4,
   "id": "453680ed-6956-410e-b0d2-6ca1882f3e74",
   "metadata": {},
   "outputs": [],
   "source": [
    "# Struktura warstw oraz parametry autoenkodera\n",
    "nb_epoch =50\n",
    "batch_size = 128\n",
    "input_dim = train_x.shape[1] #kolumn mamy w tym wypadku 30\n",
    "encoding_dim = 18\n",
    "hidden_dim1 = 10 # typowo dajemy int(encoding_dim / 2)\n",
    "hidden_dim2 = 6\n",
    "learning_rate = 1e-7\n",
    "\n",
    "input_layer = Input(shape=(input_dim, ), name='encoder_input')\n",
    "\n",
    "encoder = Dense(encoding_dim, activation=\"tanh\",\n",
    "                activity_regularizer=regularizers.l1(learning_rate))(input_layer)\n",
    "encoder = Dense(hidden_dim1, activation=\"elu\")(encoder)\n",
    "encoder = Dense(hidden_dim2, activation=\"tanh\")(encoder)\n",
    "\n",
    "# dygresja, tworzę modelik enkodera żeby działać na przestrzeni ukrytej\n",
    "encoder_model = Model(inputs = input_layer, outputs = encoder)\n",
    "\n",
    "\n",
    "decoder_input = Input(shape=(hidden_dim2,), name='decoder_input')\n",
    "\n",
    "decoder = Dense(hidden_dim2, activation='elu')(decoder_input)\n",
    "decoder = Dense(hidden_dim1, activation='tanh')(decoder)\n",
    "decoder = Dense(input_dim, activation='elu')(decoder)\n",
    "\n",
    "decoder_model = Model(inputs=decoder_input, outputs = decoder)\n",
    "\n",
    "# teraz tworzymy model z warstwą wejściową oraz czterema warstwami gęstymi\n",
    "auto_input = input_layer\n",
    "auto_output = decoder_model(encoder)\n",
    "autoencoder = Model(inputs=auto_input, outputs=auto_output)\n",
    "\n",
    "# Konfiguracja procesu nauki poprzez skompilowanie modelu\n",
    "autoencoder.compile(optimizer='adam',\n",
    "                    metrics=['accuracy'],\n",
    "                    loss='mean_squared_error')\n",
    "\n",
    "# Zapisanie modelu\n",
    "\n",
    "\n",
    "cp = ModelCheckpoint(filepath=\"./run/vae/auto_for_fraud/autoencoder_fraud.h5\",\n",
    "                     save_best_only=True,\n",
    "                     verbose=0)\n",
    "\n",
    "# Podstawowa wizualizacja TensorBoard.\n",
    "# To wywołanei zwrotne (callback) zapisuje log dla TensorBoard,\n",
    "# co pozwala na wizualizację poprzez dynamiczy graf metryk na zbiorze treningowym oraz testowym\n",
    "tb = TensorBoard(log_dir='./logs',\n",
    "                 histogram_freq=0,\n",
    "                 write_graph=True,\n",
    "                 write_images=True)\n",
    "\n"
   ]
  },
  {
   "cell_type": "code",
   "execution_count": 7,
   "id": "20e991fd-3fe8-49d3-8f91-fab9224ab1ef",
   "metadata": {},
   "outputs": [
    {
     "name": "stdout",
     "output_type": "stream",
     "text": [
      "Epoch 1/50\n",
      "1777/1777 [==============================] - 2s 970us/step - loss: 0.5192 - accuracy: 0.6463 - val_loss: 0.5522 - val_accuracy: 0.6424\n",
      "Epoch 2/50\n",
      "1777/1777 [==============================] - 2s 892us/step - loss: 0.5185 - accuracy: 0.6466 - val_loss: 0.5518 - val_accuracy: 0.6482\n",
      "Epoch 3/50\n",
      "1777/1777 [==============================] - 2s 929us/step - loss: 0.5183 - accuracy: 0.6461 - val_loss: 0.5509 - val_accuracy: 0.6518\n",
      "Epoch 4/50\n",
      "1777/1777 [==============================] - 2s 882us/step - loss: 0.5179 - accuracy: 0.6465 - val_loss: 0.5541 - val_accuracy: 0.6407\n",
      "Epoch 5/50\n",
      "1777/1777 [==============================] - 2s 899us/step - loss: 0.5178 - accuracy: 0.6465 - val_loss: 0.5502 - val_accuracy: 0.6438\n",
      "Epoch 6/50\n",
      "1777/1777 [==============================] - 2s 934us/step - loss: 0.5174 - accuracy: 0.6458 - val_loss: 0.5501 - val_accuracy: 0.6420\n",
      "Epoch 7/50\n",
      "1777/1777 [==============================] - 2s 887us/step - loss: 0.5174 - accuracy: 0.6461 - val_loss: 0.5520 - val_accuracy: 0.6377\n",
      "Epoch 8/50\n",
      "1777/1777 [==============================] - 2s 910us/step - loss: 0.5177 - accuracy: 0.6453 - val_loss: 0.5504 - val_accuracy: 0.6429\n",
      "Epoch 9/50\n",
      "1777/1777 [==============================] - 2s 937us/step - loss: 0.5170 - accuracy: 0.6456 - val_loss: 0.5493 - val_accuracy: 0.6450\n",
      "Epoch 10/50\n",
      "1777/1777 [==============================] - 2s 891us/step - loss: 0.5166 - accuracy: 0.6461 - val_loss: 0.5491 - val_accuracy: 0.6461\n",
      "Epoch 11/50\n",
      "1777/1777 [==============================] - 2s 899us/step - loss: 0.5162 - accuracy: 0.6458 - val_loss: 0.5504 - val_accuracy: 0.6465\n",
      "Epoch 12/50\n",
      "1777/1777 [==============================] - 2s 894us/step - loss: 0.5160 - accuracy: 0.6455 - val_loss: 0.5500 - val_accuracy: 0.6477\n",
      "Epoch 13/50\n",
      "1777/1777 [==============================] - 2s 923us/step - loss: 0.5159 - accuracy: 0.6452 - val_loss: 0.5487 - val_accuracy: 0.6438\n",
      "Epoch 14/50\n",
      "1777/1777 [==============================] - 2s 884us/step - loss: 0.5156 - accuracy: 0.6452 - val_loss: 0.5490 - val_accuracy: 0.6463\n",
      "Epoch 15/50\n",
      "1777/1777 [==============================] - 2s 902us/step - loss: 0.5158 - accuracy: 0.6445 - val_loss: 0.5493 - val_accuracy: 0.6400\n",
      "Epoch 16/50\n",
      "1777/1777 [==============================] - 2s 935us/step - loss: 0.5155 - accuracy: 0.6442 - val_loss: 0.5489 - val_accuracy: 0.6403\n",
      "Epoch 17/50\n",
      "1777/1777 [==============================] - 2s 888us/step - loss: 0.5149 - accuracy: 0.6442 - val_loss: 0.5478 - val_accuracy: 0.6441\n",
      "Epoch 18/50\n",
      "1777/1777 [==============================] - 2s 896us/step - loss: 0.5147 - accuracy: 0.6442 - val_loss: 0.5479 - val_accuracy: 0.6427\n",
      "Epoch 19/50\n",
      "1777/1777 [==============================] - 2s 892us/step - loss: 0.5148 - accuracy: 0.6430 - val_loss: 0.5479 - val_accuracy: 0.6397\n",
      "Epoch 20/50\n",
      "1777/1777 [==============================] - 2s 913us/step - loss: 0.5145 - accuracy: 0.6443 - val_loss: 0.5480 - val_accuracy: 0.6455\n",
      "Epoch 21/50\n",
      "1777/1777 [==============================] - 2s 879us/step - loss: 0.5143 - accuracy: 0.6432 - val_loss: 0.5471 - val_accuracy: 0.6430\n",
      "Epoch 22/50\n",
      "1777/1777 [==============================] - 2s 887us/step - loss: 0.5141 - accuracy: 0.6426 - val_loss: 0.5480 - val_accuracy: 0.6391\n",
      "Epoch 23/50\n",
      "1777/1777 [==============================] - 2s 885us/step - loss: 0.5142 - accuracy: 0.6425 - val_loss: 0.5487 - val_accuracy: 0.6480\n",
      "Epoch 24/50\n",
      "1777/1777 [==============================] - 2s 906us/step - loss: 0.5137 - accuracy: 0.6428 - val_loss: 0.5471 - val_accuracy: 0.6400\n",
      "Epoch 25/50\n",
      "1777/1777 [==============================] - 2s 878us/step - loss: 0.5138 - accuracy: 0.6429 - val_loss: 0.5477 - val_accuracy: 0.6421\n",
      "Epoch 26/50\n",
      "1777/1777 [==============================] - 2s 962us/step - loss: 0.5138 - accuracy: 0.6425 - val_loss: 0.5463 - val_accuracy: 0.6397\n",
      "Epoch 27/50\n",
      "1777/1777 [==============================] - 2s 901us/step - loss: 0.5134 - accuracy: 0.6429 - val_loss: 0.5460 - val_accuracy: 0.6409\n",
      "Epoch 28/50\n",
      "1777/1777 [==============================] - 2s 911us/step - loss: 0.5132 - accuracy: 0.6425 - val_loss: 0.5491 - val_accuracy: 0.6404\n",
      "Epoch 29/50\n",
      "1777/1777 [==============================] - 2s 878us/step - loss: 0.5131 - accuracy: 0.6417 - val_loss: 0.5470 - val_accuracy: 0.6437\n",
      "Epoch 30/50\n",
      "1777/1777 [==============================] - 2s 867us/step - loss: 0.5129 - accuracy: 0.6412 - val_loss: 0.5468 - val_accuracy: 0.6415\n",
      "Epoch 31/50\n",
      "1777/1777 [==============================] - 2s 900us/step - loss: 0.5129 - accuracy: 0.6413 - val_loss: 0.5454 - val_accuracy: 0.6402\n",
      "Epoch 32/50\n",
      "1777/1777 [==============================] - 2s 906us/step - loss: 0.5127 - accuracy: 0.6412 - val_loss: 0.5461 - val_accuracy: 0.6313\n",
      "Epoch 33/50\n",
      "1777/1777 [==============================] - 2s 869us/step - loss: 0.5125 - accuracy: 0.6410 - val_loss: 0.5470 - val_accuracy: 0.6420\n",
      "Epoch 34/50\n",
      "1777/1777 [==============================] - 2s 868us/step - loss: 0.5122 - accuracy: 0.6415 - val_loss: 0.5486 - val_accuracy: 0.6335\n",
      "Epoch 35/50\n",
      "1777/1777 [==============================] - 2s 889us/step - loss: 0.5123 - accuracy: 0.6414 - val_loss: 0.5457 - val_accuracy: 0.6405\n",
      "Epoch 36/50\n",
      "1777/1777 [==============================] - 2s 923us/step - loss: 0.5124 - accuracy: 0.6414 - val_loss: 0.5461 - val_accuracy: 0.6409\n",
      "Epoch 37/50\n",
      "1777/1777 [==============================] - 2s 897us/step - loss: 0.5117 - accuracy: 0.6414 - val_loss: 0.5451 - val_accuracy: 0.6386\n",
      "Epoch 38/50\n",
      "1777/1777 [==============================] - 2s 906us/step - loss: 0.5118 - accuracy: 0.6404 - val_loss: 0.5458 - val_accuracy: 0.6377\n",
      "Epoch 39/50\n",
      "1777/1777 [==============================] - 2s 893us/step - loss: 0.5115 - accuracy: 0.6402 - val_loss: 0.5441 - val_accuracy: 0.6408\n",
      "Epoch 40/50\n",
      "1777/1777 [==============================] - 2s 934us/step - loss: 0.5116 - accuracy: 0.6395 - val_loss: 0.5444 - val_accuracy: 0.6352\n",
      "Epoch 41/50\n",
      "1777/1777 [==============================] - 2s 922us/step - loss: 0.5114 - accuracy: 0.6412 - val_loss: 0.5465 - val_accuracy: 0.6401\n",
      "Epoch 42/50\n",
      "1777/1777 [==============================] - 2s 925us/step - loss: 0.5113 - accuracy: 0.6409 - val_loss: 0.5459 - val_accuracy: 0.6388\n",
      "Epoch 43/50\n",
      "1777/1777 [==============================] - 2s 872us/step - loss: 0.5108 - accuracy: 0.6414 - val_loss: 0.5442 - val_accuracy: 0.6387\n",
      "Epoch 44/50\n",
      "1777/1777 [==============================] - 2s 879us/step - loss: 0.5110 - accuracy: 0.6407 - val_loss: 0.5435 - val_accuracy: 0.6388\n",
      "Epoch 45/50\n",
      "1777/1777 [==============================] - 2s 890us/step - loss: 0.5104 - accuracy: 0.6403 - val_loss: 0.5438 - val_accuracy: 0.6424\n",
      "Epoch 46/50\n",
      "1777/1777 [==============================] - 2s 931us/step - loss: 0.5108 - accuracy: 0.6404 - val_loss: 0.5435 - val_accuracy: 0.6368\n",
      "Epoch 47/50\n",
      "1777/1777 [==============================] - 2s 906us/step - loss: 0.5103 - accuracy: 0.6407 - val_loss: 0.5439 - val_accuracy: 0.6381\n",
      "Epoch 48/50\n",
      "1777/1777 [==============================] - 2s 894us/step - loss: 0.5100 - accuracy: 0.6402 - val_loss: 0.5438 - val_accuracy: 0.6382\n",
      "Epoch 49/50\n",
      "1777/1777 [==============================] - 2s 896us/step - loss: 0.5098 - accuracy: 0.6409 - val_loss: 0.5436 - val_accuracy: 0.6365\n",
      "Epoch 50/50\n",
      "1777/1777 [==============================] - 2s 926us/step - loss: 0.5098 - accuracy: 0.6403 - val_loss: 0.5429 - val_accuracy: 0.6396\n"
     ]
    }
   ],
   "source": [
    "# Atrybut History.history to zapis wartości straty podczas treningu\n",
    "history = autoencoder.fit(x=train_x, y=train_x,\n",
    "                          epochs=nb_epoch,\n",
    "                          batch_size=batch_size,\n",
    "                          shuffle=True,\n",
    "                          validation_data=(test_x, test_x),\n",
    "                          verbose=1,\n",
    "                          callbacks=[cp, tb]).history"
   ]
  },
  {
   "cell_type": "code",
   "execution_count": 5,
   "id": "807bb77d-6d1a-4be0-b471-1bcc243bc241",
   "metadata": {},
   "outputs": [],
   "source": [
    "autoencoder = load_model('./run/vae/auto_for_fraud/autoencoder_fraud.h5')"
   ]
  },
  {
   "cell_type": "code",
   "execution_count": 8,
   "id": "8954ebc9-f8b2-4973-99d0-52e15dc4d8d5",
   "metadata": {},
   "outputs": [
    {
     "data": {
      "image/png": "[encoded data removed]",
      "text/plain": [
       "<Figure size 648x432 with 1 Axes>"
      ]
     },
     "metadata": {
      "needs_background": "light"
     },
     "output_type": "display_data"
    }
   ],
   "source": [
    "plt.figure(figsize=(9, 6))\n",
    "plt.plot(history['loss'], linewidth=2, label='Train')\n",
    "plt.plot(history['val_loss'], linewidth=2, label='Test')\n",
    "plt.legend(loc='upper right')\n",
    "plt.title('Wykres straty modelu')\n",
    "plt.ylabel('Loss')\n",
    "plt.xlabel('Epoch')\n",
    "#plt.savefig(r\"E:\\page_ds\\anomaly_detection\\foto\\5_ModelLoss_SMOTETomek.png\", format=\"png\" , dpi=400, facecolor=\"White\")\n",
    "#plt.ylim(ymin=0.70,ymax=1)\n",
    "plt.show()"
   ]
  },
  {
   "cell_type": "code",
   "execution_count": 9,
   "id": "d5ef6128-7b5f-41ea-92f8-f9526d04862f",
   "metadata": {},
   "outputs": [
    {
     "data": {
      "text/html": [
       "<div>\n",
       "<style scoped>\n",
       "    .dataframe tbody tr th:only-of-type {\n",
       "        vertical-align: middle;\n",
       "    }\n",
       "\n",
       "    .dataframe tbody tr th {\n",
       "        vertical-align: top;\n",
       "    }\n",
       "\n",
       "    .dataframe thead th {\n",
       "        text-align: right;\n",
       "    }\n",
       "</style>\n",
       "<table border=\"1\" class=\"dataframe\">\n",
       "  <thead>\n",
       "    <tr style=\"text-align: right;\">\n",
       "      <th></th>\n",
       "      <th>Reconstruction_error</th>\n",
       "      <th>True_class</th>\n",
       "    </tr>\n",
       "  </thead>\n",
       "  <tbody>\n",
       "    <tr>\n",
       "      <th>count</th>\n",
       "      <td>56962.000000</td>\n",
       "      <td>56962.000000</td>\n",
       "    </tr>\n",
       "    <tr>\n",
       "      <th>mean</th>\n",
       "      <td>0.542864</td>\n",
       "      <td>0.001668</td>\n",
       "    </tr>\n",
       "    <tr>\n",
       "      <th>std</th>\n",
       "      <td>3.260370</td>\n",
       "      <td>0.040805</td>\n",
       "    </tr>\n",
       "    <tr>\n",
       "      <th>min</th>\n",
       "      <td>0.028587</td>\n",
       "      <td>0.000000</td>\n",
       "    </tr>\n",
       "    <tr>\n",
       "      <th>25%</th>\n",
       "      <td>0.143487</td>\n",
       "      <td>0.000000</td>\n",
       "    </tr>\n",
       "    <tr>\n",
       "      <th>50%</th>\n",
       "      <td>0.239144</td>\n",
       "      <td>0.000000</td>\n",
       "    </tr>\n",
       "    <tr>\n",
       "      <th>75%</th>\n",
       "      <td>0.418322</td>\n",
       "      <td>0.000000</td>\n",
       "    </tr>\n",
       "    <tr>\n",
       "      <th>max</th>\n",
       "      <td>379.039941</td>\n",
       "      <td>1.000000</td>\n",
       "    </tr>\n",
       "  </tbody>\n",
       "</table>\n",
       "</div>"
      ],
      "text/plain": [
       "       Reconstruction_error    True_class\n",
       "count          56962.000000  56962.000000\n",
       "mean               0.542864      0.001668\n",
       "std                3.260370      0.040805\n",
       "min                0.028587      0.000000\n",
       "25%                0.143487      0.000000\n",
       "50%                0.239144      0.000000\n",
       "75%                0.418322      0.000000\n",
       "max              379.039941      1.000000"
      ]
     },
     "execution_count": 9,
     "metadata": {},
     "output_type": "execute_result"
    }
   ],
   "source": [
    "test_x_predictions = autoencoder.predict(test_x)\n",
    "mse = np.mean(np.power(test_x - test_x_predictions, 2), axis=1)\n",
    "error_df = pd.DataFrame({'Reconstruction_error': mse,\n",
    "                        'True_class': test_y})\n",
    "error_df.describe()"
   ]
  },
  {
   "cell_type": "code",
   "execution_count": 12,
   "id": "312f3424-5694-48c4-85fc-568da082dec4",
   "metadata": {},
   "outputs": [
    {
     "name": "stdout",
     "output_type": "stream",
     "text": [
      "Model: \"model\"\n",
      "_________________________________________________________________\n",
      " Layer (type)                Output Shape              Param #   \n",
      "=================================================================\n",
      " encoder_input (InputLayer)  [(None, 30)]              0         \n",
      "                                                                 \n",
      " dense (Dense)               (None, 18)                558       \n",
      "                                                                 \n",
      " dense_1 (Dense)             (None, 10)                190       \n",
      "                                                                 \n",
      " dense_2 (Dense)             (None, 6)                 66        \n",
      "                                                                 \n",
      "=================================================================\n",
      "Total params: 814\n",
      "Trainable params: 814\n",
      "Non-trainable params: 0\n",
      "_________________________________________________________________\n"
     ]
    }
   ],
   "source": [
    "# predykcja dla warstwy ukrytej enkodera. Najpierw jak wygląda struktura (dość prosta) \n",
    "encoder_model.summary()"
   ]
  },
  {
   "cell_type": "code",
   "execution_count": 10,
   "id": "33c2044b-d4c6-47de-81d4-7a2585345a0b",
   "metadata": {},
   "outputs": [
    {
     "name": "stdout",
     "output_type": "stream",
     "text": [
      "(56962, 30)\n",
      "95\n"
     ]
    }
   ],
   "source": [
    "#test_y\n",
    "print(test_x.shape) \n",
    "print(np.sum(test_y))"
   ]
  },
  {
   "cell_type": "markdown",
   "id": "5ce50ea0-4c35-49a8-80da-4c77386ce747",
   "metadata": {},
   "source": [
    "Teraz powtarzamy ćwiczenie dla wielowymiarowej przestrzeni czyli sprowadzam przestrzeń ukrytą do dwóch wymiarów. Pozwoli mi to na przedstawienie graficzne danych"
   ]
  },
  {
   "cell_type": "code",
   "execution_count": 38,
   "id": "f02efa21-67c3-437f-be44-a696d5761b7a",
   "metadata": {},
   "outputs": [
    {
     "name": "stdout",
     "output_type": "stream",
     "text": [
      "(56962, 6)\n"
     ]
    }
   ],
   "source": [
    "from sklearn.svm import SVC\n",
    "\n",
    "# tworzę wartswę ukrytą i na niej buduję multiklasowy model SVM \n",
    "X_svm = encoder_model.predict(test_x)\n",
    "y_svm = test_y.copy()\n",
    "\n",
    "print(X_svm.shape)"
   ]
  },
  {
   "cell_type": "code",
   "execution_count": 112,
   "id": "93e262df-caf6-4ce9-a9c5-0522614ddc9a",
   "metadata": {},
   "outputs": [
    {
     "name": "stdout",
     "output_type": "stream",
     "text": [
      "(56962, 6)\n"
     ]
    }
   ],
   "source": []
  },
  {
   "cell_type": "code",
   "execution_count": 39,
   "id": "edd02510-b2ac-48b3-9370-1d1ee544822d",
   "metadata": {},
   "outputs": [],
   "source": [
    "example_idx = np.random.choice(range(len(X_svm)), 5000)\n",
    "\n",
    "example_data = X_svm[example_idx,:]\n",
    "#example_labels = test_y[example_idx]"
   ]
  },
  {
   "cell_type": "code",
   "execution_count": 40,
   "id": "97afc933-3687-4af0-97cc-cfcfed010f95",
   "metadata": {},
   "outputs": [],
   "source": [
    "# wyznaczam wartość MSE rekonstrukcji w zależności od parametru gamma\n",
    "# ćwiczenie bardzo wymagające obliczeniowo, dobrze wykorzystać tylko część zbioru\n",
    "from sklearn.decomposition import KernelPCA\n",
    "from sklearn.metrics import mean_squared_error\n",
    "\n",
    "example_idx = np.random.choice(range(len(X_svm)), 5000)\n",
    "example_data = X_svm[example_idx]\n",
    "#example_labels = y_svm[example_idx]\n",
    "\n",
    "gamma_grid = [0.001, 0.01, 0.03, 0.06, 0.1, 0.2, 0.5]\n",
    "output = []\n",
    "\n",
    "for gamma in gamma_grid:\n",
    "    rbf_pca = KernelPCA(n_components = 2, kernel = \"rbf\", gamma = gamma, fit_inverse_transform=True)\n",
    "    X_reduced = rbf_pca.fit_transform(example_data) \n",
    "    X_preimage = rbf_pca.inverse_transform(X_reduced)\n",
    "    mse = mean_squared_error(example_data, X_preimage) # dla standardowego PCA można skorzystać z współczynnika wyjaśnionej wariancji\n",
    "    output.append((gamma, mse))\n"
   ]
  },
  {
   "cell_type": "code",
   "execution_count": 41,
   "id": "1d03c7e3-27b3-4e51-9b0d-ee9894877ee0",
   "metadata": {},
   "outputs": [
    {
     "data": {
      "image/png": "[encoded data removed]",
      "text/plain": [
       "<Figure size 360x360 with 1 Axes>"
      ]
     },
     "metadata": {
      "needs_background": "light"
     },
     "output_type": "display_data"
    }
   ],
   "source": [
    "x = [x[0] for x in output]\n",
    "y = [y[1] for y in output]\n",
    "\n",
    "plt.figure(figsize=(5, 5))\n",
    "\n",
    "sns.pointplot(x=x, y=y)\n",
    "plt.title(\"Wykres zależności MSE od poziomu hiperparametru gamma\")\n",
    "plt.xlabel(\"gamma\")\n",
    "plt.ylabel(\"MSE\")\n",
    "plt.savefig(\"MSE_dep_gamma.png\", format='png', dpi=300, facecolor=\"White\")"
   ]
  },
  {
   "cell_type": "code",
   "execution_count": 42,
   "id": "77d1da12-4a7a-4fc8-ba42-b4097488b184",
   "metadata": {},
   "outputs": [
    {
     "data": {
      "text/plain": [
       "[(0.001, 0.2587904),\n",
       " (0.01, 0.10522992),\n",
       " (0.03, 0.066324666),\n",
       " (0.06, 0.064526595),\n",
       " (0.1, 0.06440831),\n",
       " (0.2, 0.065826446),\n",
       " (0.5, 0.07165884)]"
      ]
     },
     "execution_count": 42,
     "metadata": {},
     "output_type": "execute_result"
    }
   ],
   "source": [
    "output"
   ]
  },
  {
   "cell_type": "code",
   "execution_count": null,
   "id": "4d0ac17f-f2e8-449f-b16e-d8b13cf000aa",
   "metadata": {},
   "outputs": [],
   "source": [
    "czyli wartość pomiędzy 0.03-0.1"
   ]
  },
  {
   "cell_type": "markdown",
   "id": "e8b64ccd-3cff-46d1-8a33-9beff5593f29",
   "metadata": {},
   "source": [
    "I jeszcze analogiczne ćwiczenie dla zwykłego PCA "
   ]
  },
  {
   "cell_type": "code",
   "execution_count": 43,
   "id": "331ab00a-e480-4ee9-ac5a-b2ee8faca5ed",
   "metadata": {},
   "outputs": [
    {
     "name": "stdout",
     "output_type": "stream",
     "text": [
      "Wytłumaczona część wariancji oryginalnej przestrzeni wynosi  [0.5454504  0.21226202]\n",
      "Skumulowana wytłumaczona część wariancji wynosi:  [0.5454504 0.7577124]\n",
      "0.06988276\n"
     ]
    }
   ],
   "source": [
    "from sklearn.decomposition import PCA\n",
    "import numpy as np\n",
    "\n",
    "example_idx = np.random.choice(range(len(X_svm)), 5000)\n",
    "example_data = X_svm[example_idx]\n",
    "\n",
    "pca = PCA(n_components = 2) \n",
    "X_reduced_pca = pca.fit_transform(example_data)\n",
    "print(\"Wytłumaczona część wariancji oryginalnej przestrzeni wynosi \", pca.explained_variance_ratio_ )\n",
    "\n",
    "print(\"Skumulowana wytłumaczona część wariancji wynosi: \", np.cumsum(pca.explained_variance_ratio_))\n",
    "\n",
    "# PCA nie posiada inverce transform, trzeba ją zdefiniować samemu\n",
    "data_reduced = np.dot(example_data - pca.mean_, pca.components_.T) # transform\n",
    "data_original = np.dot(data_reduced, pca.components_) # inverse_transform\n",
    "print(mean_squared_error(example_data, data_original))\n"
   ]
  },
  {
   "cell_type": "markdown",
   "id": "f2a0836e-d51c-4e36-ac0e-d44145a3d2a9",
   "metadata": {},
   "source": [
    "Potrafię wytłumaczyć 75% wariancji przy dwóch wymiarach dla PCA liniowej"
   ]
  },
  {
   "cell_type": "code",
   "execution_count": 44,
   "id": "167398d4-3790-41d1-9d23-dee51ce44bbf",
   "metadata": {},
   "outputs": [],
   "source": [
    "rbf_pca = KernelPCA(n_components = 2, kernel = \"rbf\", gamma = 0.01)\n",
    "X_reduced = rbf_pca.fit_transform(X_svm)\n",
    "# ćwiczenie trwa kilkanaście minut, dobrze jest zapisać sobie jego wynik"
   ]
  },
  {
   "cell_type": "code",
   "execution_count": 114,
   "id": "8a68e7bd-ddc4-44d5-82b5-d942f574eea4",
   "metadata": {},
   "outputs": [
    {
     "data": {
      "text/plain": [
       "(56962, 2)"
      ]
     },
     "execution_count": 114,
     "metadata": {},
     "output_type": "execute_result"
    }
   ],
   "source": []
  },
  {
   "cell_type": "code",
   "execution_count": 50,
   "id": "28ae4ce6-eb3a-4125-b086-9e1c6d2adea1",
   "metadata": {},
   "outputs": [],
   "source": [
    "#Zapisywanie modelu \n",
    "import pickle as pk\n",
    "pk.dump(rbf_pca, open(\"./run/PCA/PCA01.pkl\",\"wb\"))\n",
    "#zrzucam również dane \n",
    "X_reduced.dump('PCA_data.pkl')"
   ]
  },
  {
   "cell_type": "code",
   "execution_count": 90,
   "id": "d242d828-6cd1-497f-a5e5-9bf9e59d73d8",
   "metadata": {},
   "outputs": [],
   "source": [
    "# i teraz odczytujemy model\n",
    "pca_reload = pk.load(open(\"./run/PCA/PCA01.pkl\",\"rb\"))\n",
    "X_reduced = pk.load(open(\"PCA_data.pkl\", \"rb\"))\n",
    "# i teraz nie korzystamy jużz fit_transform tylko z samego transform\n",
    "#result_new = pca_reload.transform(X_svm)\n"
   ]
  },
  {
   "cell_type": "code",
   "execution_count": null,
   "id": "5bbc0685-052a-4e58-be4c-9500054178aa",
   "metadata": {},
   "outputs": [],
   "source": [
    "[y_svm[x] for x in example_idx]\n"
   ]
  },
  {
   "cell_type": "markdown",
   "id": "807d4a73-a749-4744-a4b0-956b26ad0ea1",
   "metadata": {},
   "source": [
    "To teraz wykresik :). Dla odmiany pokażę losowy podzbiór normalnych danych oraz wszystkie pozycje fraudowe"
   ]
  },
  {
   "cell_type": "code",
   "execution_count": 206,
   "id": "6485e1a0-2627-446e-b732-48ee96dda46c",
   "metadata": {},
   "outputs": [
    {
     "data": {
      "image/png": "[encoded data removed]",
      "text/plain": [
       "<Figure size 576x576 with 1 Axes>"
      ]
     },
     "metadata": {
      "needs_background": "light"
     },
     "output_type": "display_data"
    }
   ],
   "source": [
    "\n",
    "n_to_show = 5000\n",
    "figsize = 8\n",
    "# muszę podmienić typ bo na serii nie da się pracować \n",
    "y_svm= list(y_svm)\n",
    "example_idx_1 = [index for index,value in enumerate(y_svm) if value == 1]\n",
    "\n",
    "example_idx_0 = set(np.random.choice(range(len(X_reduced[:,0])), n_to_show, replace=False))\n",
    "example_idx_0 = example_idx_0.difference(example_idx_1)\n",
    "example_idx_0 = list(example_idx_0)\n",
    "\n",
    "# mapujemy na liczby całkowite \n",
    "example_idx_0 = list(map(int,example_idx_0))\n",
    "example_idx_1 = list(map(int,example_idx_1))\n",
    "\n",
    "\n",
    "example_data_0 = X_reduced[example_idx_0]\n",
    "example_labels_0 = [y_svm[x] for x in example_idx_0]\n",
    "\n",
    "example_data_1 = X_reduced[example_idx_1]\n",
    "example_labels_1 = [y_svm[x] for x in example_idx_1]\n",
    "\n",
    "plt.figure(figsize=(figsize, figsize))\n",
    "plt.scatter(example_data_0[:, 0] , example_data_0[:, 1] ,  c=\"blue\"\n",
    "            , alpha=0.1, s=2)\n",
    "\n",
    "plt.scatter(example_data_1[:, 0] , example_data_1[:, 1] ,  c=\"red\"\n",
    "            , alpha=0.9, s=4)\n",
    "\n",
    "#plt.colorbar()\n",
    "\n",
    "#plt.savefig(\"latent_space_2d.png\", format='png', dpi=300, facecolor=\"White\")\n",
    "plt.show()\n"
   ]
  },
  {
   "cell_type": "markdown",
   "id": "4cd116ac-65c3-4be0-b2d8-284c55c1b91e",
   "metadata": {},
   "source": [
    "Nie wygląda to zbyt obiecująco: czerwone kropki (fraudy) praktycznie pokrywają się z niebieskimi (prawidłowe transakcje)\n",
    "Mimo to spróbuję postawić SVM ale juz teraz widać, że będzie on popełniał błąd pierwszego rodzaju (wskazywał błędne fraudy)"
   ]
  }
 ],
 "metadata": {
  "kernelspec": {
   "display_name": "Python 3 (ipykernel)",
   "language": "python",
   "name": "python3"
  },
  "language_info": {
   "codemirror_mode": {
    "name": "ipython",
    "version": 3
   },
   "file_extension": ".py",
   "mimetype": "text/x-python",
   "name": "python",
   "nbconvert_exporter": "python",
   "pygments_lexer": "ipython3",
   "version": "3.9.7"
  }
 },
 "nbformat": 4,
 "nbformat_minor": 5
}
