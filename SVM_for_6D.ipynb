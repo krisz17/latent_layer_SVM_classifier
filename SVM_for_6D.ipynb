{
 "cells": [
  {
   "cell_type": "markdown",
   "id": "e2c551c4-1f54-4ebe-a0c0-ab790c93cf1f",
   "metadata": {},
   "source": [
    "Ponowne puszczenie kodów dla autoenkodera z podmianką hiperparametrów oraz w drugim kroku zbuduję jednoklasową maszynę wektorów nośnych (OneClass SVM) "
   ]
  },
  {
   "cell_type": "code",
   "execution_count": 1,
   "id": "8cb06fd8-0005-45ec-9c7b-77d4af7922cc",
   "metadata": {},
   "outputs": [],
   "source": [
    "# importujemy pakiety\n",
    "# matplotlib inline\n",
    "import pandas as pd\n",
    "import numpy as np\n",
    "from scipy import stats\n",
    "import tensorflow as tf\n",
    "import matplotlib.pyplot as plt\n",
    "import seaborn as sns\n",
    "import pickle\n",
    "from sklearn.model_selection import train_test_split\n",
    "from sklearn.metrics import confusion_matrix, precision_recall_curve\n",
    "from sklearn.metrics import recall_score, classification_report, auc, roc_curve\n",
    "from sklearn.metrics import precision_recall_fscore_support, f1_score\n",
    "from sklearn.preprocessing import StandardScaler\n",
    "from pylab import rcParams\n",
    "from keras.models import Model, load_model\n",
    "from keras.layers import Input, Dense\n",
    "from keras.callbacks import ModelCheckpoint, TensorBoard\n",
    "from keras import backend as K\n",
    "from keras import regularizers\n",
    "from imblearn.under_sampling import TomekLinks\n",
    "\n",
    "#ustawiam ziarno pseudolosowania i udział zbioru testowego\n",
    "RANDOM_SEED = 128262\n",
    "TEST_PCT = 0.2\n",
    "\n",
    "#ustawienia stylu grafik, w tym wypadku wykorzystałem schemat kolorów z xkcd.com\n",
    "rcParams['figure.figsize'] = 14, 8.7 # złoty podział\n",
    "LABELS = [\"Normal\",\"Fraud\"]\n",
    "\n",
    "# wczytujemy zbiór danych\n",
    "df = pd.read_csv(\"creditcard.csv\")"
   ]
  },
  {
   "cell_type": "code",
   "execution_count": 2,
   "id": "a341ba82-5aed-4d07-a60f-d6221cd6d380",
   "metadata": {},
   "outputs": [],
   "source": [
    "#Normalizowanie oraz skalowanie danych, wymagane aby skorzystać z sieci neuronowej.\n",
    "df_norm = df.copy()\n",
    "df_norm['Time'] = StandardScaler().fit_transform(df_norm['Time'].values.reshape(-1, 1))\n",
    "df_norm['Amount'] = StandardScaler().fit_transform(df_norm['Amount'].values.reshape(-1, 1))"
   ]
  },
  {
   "cell_type": "code",
   "execution_count": 3,
   "id": "6e3cf1be-cd10-41fc-a58c-21f0206bfa53",
   "metadata": {},
   "outputs": [],
   "source": [
    "train_x, test_x = train_test_split(df_norm, test_size=TEST_PCT, random_state=RANDOM_SEED)\n",
    "train_x = train_x[train_x.Class == 0]       # where normal transactions\n",
    "train_x = train_x.drop(['Class'], axis=1)   # drop the class column\n",
    "\n",
    "test_y = test_x['Class']                    # save the class column for the test set\n",
    "test_x = test_x.drop(['Class'], axis=1)     # drop the class column\n",
    "\n",
    "train_x = train_x.values                    # transform to ndarray\n",
    "test_x = test_x.values                      # transform to ndarray\n"
   ]
  },
  {
   "cell_type": "code",
   "execution_count": 4,
   "id": "a578e656-64c6-48af-ab68-a4cad3de1c2b",
   "metadata": {},
   "outputs": [
    {
     "name": "stdout",
     "output_type": "stream",
     "text": [
      "(227448, 30)\n"
     ]
    }
   ],
   "source": [
    "print(train_x.shape)"
   ]
  },
  {
   "cell_type": "code",
   "execution_count": 5,
   "id": "80eabd07-223c-4736-af40-0c0893d115dc",
   "metadata": {},
   "outputs": [],
   "source": [
    "# Struktura warstw oraz parametry autoenkodera\n",
    "nb_epoch =50\n",
    "batch_size = 128\n",
    "input_dim = train_x.shape[1] #kolumn mamy w tym wypadku 30\n",
    "encoding_dim = 18\n",
    "hidden_dim1 = 10 # typowo dajemy int(encoding_dim / 2)\n",
    "hidden_dim2 = 6\n",
    "learning_rate = 1e-7\n",
    "\n",
    "input_layer = Input(shape=(input_dim, ), name='encoder_input')\n",
    "\n",
    "encoder = Dense(encoding_dim, activation=\"tanh\",\n",
    "                activity_regularizer=regularizers.l1(learning_rate))(input_layer)\n",
    "encoder = Dense(hidden_dim1, activation=\"elu\")(encoder)\n",
    "encoder = Dense(hidden_dim2, activation=\"tanh\")(encoder)\n",
    "\n",
    "# dygresja, tworzę modelik enkodera żeby działać na przestrzeni ukrytej\n",
    "encoder_model = Model(inputs = input_layer, outputs = encoder)\n",
    "\n",
    "\n",
    "decoder_input = Input(shape=(hidden_dim2,), name='decoder_input')\n",
    "\n",
    "decoder = Dense(hidden_dim2, activation='elu')(decoder_input)\n",
    "decoder = Dense(hidden_dim1, activation='tanh')(decoder)\n",
    "decoder = Dense(input_dim, activation='elu')(decoder)\n",
    "\n",
    "decoder_model = Model(inputs=decoder_input, outputs = decoder)\n",
    "\n",
    "# teraz tworzymy model z warstwą wejściową oraz czterema warstwami gęstymi\n",
    "auto_input = input_layer\n",
    "auto_output = decoder_model(encoder)\n",
    "autoencoder = Model(inputs=auto_input, outputs=auto_output)\n",
    "\n",
    "# Konfiguracja procesu nauki poprzez skompilowanie modelu\n",
    "#https://keras.io/api/models/model_training_apis/#compile-method\n",
    "#https://www.tensorflow.org/api_docs/python/tf/keras/metrics\n",
    "#https://www.tensorflow.org/api_docs/python/tf/keras/losses/CategoricalCrossentropy\n",
    "\n",
    "autoencoder.compile(optimizer='adam',\n",
    "                    metrics=['accuracy'],\n",
    "                    loss='mean_squared_error')\n",
    "\n",
    "# Zapisanie modelu\n",
    "\n",
    "\n",
    "# Ładujemy zbudowany model zbudowany w poprzednim pliku \n",
    "autoencoder = load_model('./run/vae/auto_for_fraud/autoencoder_fraud.h5')\n",
    "\n",
    "\n",
    "\n"
   ]
  },
  {
   "cell_type": "code",
   "execution_count": 6,
   "id": "42139e34-6fa2-47e2-8f65-2a13cc4d633b",
   "metadata": {},
   "outputs": [
    {
     "name": "stdout",
     "output_type": "stream",
     "text": [
      "(56962, 6)\n"
     ]
    }
   ],
   "source": [
    "from sklearn.svm import SVC\n",
    "\n",
    "# tworzę wartswę ukrytą i na niej buduję multiklasowy model SVM \n",
    "X_svm = encoder_model.predict(test_x)\n",
    "y_svm = test_y.copy()\n",
    "\n",
    "print(X_svm.shape)"
   ]
  },
  {
   "cell_type": "code",
   "execution_count": 7,
   "id": "0709145a-6bc8-4a9b-870c-8e3962d8ba67",
   "metadata": {},
   "outputs": [
    {
     "name": "stdout",
     "output_type": "stream",
     "text": [
      "[(0, 56867), (1, 95)]\n"
     ]
    }
   ],
   "source": [
    "#rozkład zmiennej \n",
    "from collections import Counter\n",
    "print(sorted(Counter(y_svm).items()))"
   ]
  },
  {
   "cell_type": "markdown",
   "id": "277a401a-170a-4abd-8053-1264960e54c4",
   "metadata": {},
   "source": [
    "W tym miejscu skoro nie udało mi się zbudować modelu SVM na rzucie wektora reprezentacji do 2D, spróbuję go zbudować w przestrzenii 6D i ocenić za pomoca macierzy pomyłek (na zbiorze treningowym). \n"
   ]
  },
  {
   "cell_type": "code",
   "execution_count": 8,
   "id": "788cffca-7243-4266-9209-de1983864ae6",
   "metadata": {},
   "outputs": [
    {
     "name": "stdout",
     "output_type": "stream",
     "text": [
      "wymiar 1: od -0.938 do 0.939\n",
      "wymiar 2: od -0.993 do 0.897\n",
      "wymiar 3: od -0.942 do 0.999\n",
      "wymiar 4: od -0.928 do 0.965\n",
      "wymiar 5: od -0.964 do 0.988\n",
      "wymiar 6: od -0.975 do 0.965\n"
     ]
    }
   ],
   "source": [
    "# granice przestrzeni ukrytej\n",
    "for i in range(0,6):\n",
    "    print(\"wymiar {0}: od {1:.3f} do {2:.3f}\".format(i+1, np.min(X_svm[:,i]), np.max(X_svm[:,i])))\n"
   ]
  },
  {
   "cell_type": "markdown",
   "id": "f8da8850-d144-40ae-90f4-411525fae9fd",
   "metadata": {},
   "source": [
    "Zbiór został znormalizowany więc SVM powinna zadziałać prawidłowo bez dodatkowej normalizacji"
   ]
  },
  {
   "cell_type": "code",
   "execution_count": 9,
   "id": "da978d21-20b1-4914-b554-5eaebb26bdb6",
   "metadata": {},
   "outputs": [
    {
     "data": {
      "text/plain": [
       "SVC(C=1000, decision_function_shape='ovo')"
      ]
     },
     "execution_count": 9,
     "metadata": {},
     "output_type": "execute_result"
    }
   ],
   "source": [
    "# budowanie na pełnym zbiorze danych trwa zbyt długo, działam zatem jedynie na podziborze jaki wygenerowałem do stworzenia wykresu\n",
    "Cp =1000  #  0.01, 1000\n",
    "gammap='scale' # 0.1, 1 'scale' ‘auto’\n",
    "svm_model  = SVC(kernel='rbf', gamma = gammap, C=Cp, decision_function_shape='ovo')  # kerner = {sigmoid, rbf}\n",
    "\n",
    "svm_model.fit(X_svm, y_svm)\n",
    "\n"
   ]
  },
  {
   "cell_type": "code",
   "execution_count": 10,
   "id": "30daeabf-868f-4ac4-985f-54980c719a98",
   "metadata": {},
   "outputs": [],
   "source": [
    "y_pred = svm_model.predict(X_svm).reshape(y_svm.shape)"
   ]
  },
  {
   "cell_type": "code",
   "execution_count": 11,
   "id": "c9184898-583a-4564-99dc-d93c0bc72fb9",
   "metadata": {},
   "outputs": [
    {
     "data": {
      "text/plain": [
       "dict_items([(0, 56896), (1, 66)])"
      ]
     },
     "execution_count": 11,
     "metadata": {},
     "output_type": "execute_result"
    }
   ],
   "source": [
    "from collections import Counter\n",
    "\n",
    "Counter(y_pred).items()"
   ]
  },
  {
   "cell_type": "code",
   "execution_count": 13,
   "id": "c8da845d-a6e3-4110-ae90-fb22f35c6861",
   "metadata": {},
   "outputs": [
    {
     "data": {
      "image/png": "[encoded data removed]",
      "text/plain": [
       "<Figure size 864x432 with 1 Axes>"
      ]
     },
     "metadata": {
      "needs_background": "light"
     },
     "output_type": "display_data"
    }
   ],
   "source": [
    "from sklearn.metrics import confusion_matrix, ConfusionMatrixDisplay\n",
    "import matplotlib.pyplot as plt\n",
    "\n",
    "f, axes = plt.subplots(figsize=( 12, 6))\n",
    "\n",
    "cm = confusion_matrix(y_svm, y_pred)\n",
    "disp = ConfusionMatrixDisplay(cm, display_labels = LABELS)\n",
    "disp.plot(ax=axes, xticks_rotation=45)\n",
    "disp.ax_.set_title(\"Macierz pomyłek modelu SVM dla przestrzeni ukrytej 6D\")\n",
    "disp.im_.colorbar.remove()\n",
    "disp.ax_.set_xlabel('')\n",
    "plt.savefig(\"confusion_matrix_c1000_gamma_scale.png\", format='png', dpi=300, facecolor=\"White\")\n"
   ]
  },
  {
   "cell_type": "markdown",
   "id": "ab595fb3-761b-4b87-86e2-0cd561cdc5f0",
   "metadata": {},
   "source": [
    "Zadziałało, to może zamiast polegać na organoleptycznej ocenie dopasowania zastosuję przeszukanie siatki"
   ]
  },
  {
   "cell_type": "code",
   "execution_count": 21,
   "id": "ee860693-8f3a-4319-a6b5-384bf1f4e1c4",
   "metadata": {},
   "outputs": [
    {
     "name": "stdout",
     "output_type": "stream",
     "text": [
      "['mean_fit_time', 'mean_score_time', 'mean_test_score', 'param_C', 'param_gamma', 'param_kernel', 'params', 'rank_test_score', 'split0_test_score', 'split1_test_score', 'split2_test_score', 'split3_test_score', 'split4_test_score', 'std_fit_time', 'std_score_time', 'std_test_score']\n"
     ]
    }
   ],
   "source": [
    "from sklearn.model_selection import GridSearchCV\n",
    "\n",
    "parameters = {'kernel':['rbf'], 'C':[1, 10, 100, 1000, 10000], 'gamma':(0.1, 1, 5, 'scale', 'auto')}\n",
    "svc = SVC()\n",
    "clf = GridSearchCV(svc, parameters, scoring='recall')\n",
    "\n",
    "clf.fit(X_svm, y_svm)\n",
    "print(sorted(clf.cv_results_.keys()))\n"
   ]
  },
  {
   "cell_type": "code",
   "execution_count": 22,
   "id": "fd1fb7be-ed8e-42d6-94c3-78a8e307f03c",
   "metadata": {},
   "outputs": [
    {
     "name": "stdout",
     "output_type": "stream",
     "text": [
      "Optymalny hiperparametr C:  1000\n",
      "Optymalny hiperparametr gamma:  1\n"
     ]
    }
   ],
   "source": [
    "print(\"Optymalny hiperparametr C: \", clf.best_params_['C'])\n",
    "print(\"Optymalny hiperparametr gamma: \", clf.best_params_['gamma'])"
   ]
  },
  {
   "cell_type": "code",
   "execution_count": 17,
   "id": "8d33b849-85db-4987-bf84-6e74775b2564",
   "metadata": {},
   "outputs": [
    {
     "data": {
      "image/png": "[encoded data removed]",
      "text/plain": [
       "<Figure size 864x432 with 1 Axes>"
      ]
     },
     "metadata": {
      "needs_background": "light"
     },
     "output_type": "display_data"
    }
   ],
   "source": [
    "Cp = 1000  #  0.01, 1000\n",
    "gammap = 1\n",
    "svm_model  = SVC(kernel='rbf', gamma = gammap, C=Cp, decision_function_shape='ovo')  # kerner = {sigmoid, rbf}\n",
    "\n",
    "svm_model.fit(X_svm, y_svm)\n",
    "\n",
    "y_pred = svm_model.predict(X_svm).reshape(y_svm.shape)\n",
    "\n",
    "f, axes = plt.subplots(figsize=( 12, 6))\n",
    "\n",
    "cm = confusion_matrix(y_svm, y_pred)\n",
    "disp = ConfusionMatrixDisplay(cm, display_labels = LABELS)\n",
    "disp.plot(ax=axes, xticks_rotation=45)\n",
    "disp.ax_.set_title(\"Macierz pomyłek modelu SVM dla przestrzeni ukrytej 6D\")\n",
    "disp.im_.colorbar.remove()\n",
    "disp.ax_.set_xlabel('')\n",
    "\n",
    "plt.savefig(\"confusion_matrix_c1000_gamma_1.png\", format='png', dpi=300, facecolor=\"White\")"
   ]
  },
  {
   "cell_type": "code",
   "execution_count": 20,
   "id": "bdbfb786-6fd0-4715-a6df-d8e9e4ad04cd",
   "metadata": {},
   "outputs": [
    {
     "name": "stdout",
     "output_type": "stream",
     "text": [
      "Recall dla modelu SVM w 6d wynosi 0.7158\n",
      "Precision dla modelu SVM w 6d wynosi 0.9577\n"
     ]
    }
   ],
   "source": [
    "from sklearn.metrics import recall_score, precision_score\n",
    "\n",
    "print(\"Recall dla modelu SVM w 6d wynosi {0:.4f}\".format(recall_score(y_svm, y_pred)))\n",
    "print(\"Precision dla modelu SVM w 6d wynosi {0:.4f}\".format(precision_score(y_svm, y_pred)))\n"
   ]
  }
 ],
 "metadata": {
  "kernelspec": {
   "display_name": "Python 3 (ipykernel)",
   "language": "python",
   "name": "python3"
  },
  "language_info": {
   "codemirror_mode": {
    "name": "ipython",
    "version": 3
   },
   "file_extension": ".py",
   "mimetype": "text/x-python",
   "name": "python",
   "nbconvert_exporter": "python",
   "pygments_lexer": "ipython3",
   "version": "3.9.7"
  }
 },
 "nbformat": 4,
 "nbformat_minor": 5
}
